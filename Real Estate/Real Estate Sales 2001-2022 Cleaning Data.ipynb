{
 "cells": [
  {
   "cell_type": "code",
   "execution_count": 1,
   "id": "d237769b-cc50-4c50-b072-46feb1230dc1",
   "metadata": {},
   "outputs": [],
   "source": [
    "import pandas as pd"
   ]
  },
  {
   "cell_type": "code",
   "execution_count": 3,
   "id": "84037c1d-d0e7-41eb-abe5-bb850489149d",
   "metadata": {},
   "outputs": [
    {
     "name": "stderr",
     "output_type": "stream",
     "text": [
      "C:\\Users\\ACER\\AppData\\Local\\Temp\\ipykernel_1568\\2672399188.py:1: DtypeWarning: Columns (8,9,10,11,12) have mixed types. Specify dtype option on import or set low_memory=False.\n",
      "  df = pd.read_csv(\"D:/Data science/Dataset/Real_Estate_Sales_2001-2022_GL.csv\")\n"
     ]
    },
    {
     "data": {
      "text/html": [
       "<div>\n",
       "<style scoped>\n",
       "    .dataframe tbody tr th:only-of-type {\n",
       "        vertical-align: middle;\n",
       "    }\n",
       "\n",
       "    .dataframe tbody tr th {\n",
       "        vertical-align: top;\n",
       "    }\n",
       "\n",
       "    .dataframe thead th {\n",
       "        text-align: right;\n",
       "    }\n",
       "</style>\n",
       "<table border=\"1\" class=\"dataframe\">\n",
       "  <thead>\n",
       "    <tr style=\"text-align: right;\">\n",
       "      <th></th>\n",
       "      <th>Serial Number</th>\n",
       "      <th>List Year</th>\n",
       "      <th>Date Recorded</th>\n",
       "      <th>Town</th>\n",
       "      <th>Address</th>\n",
       "      <th>Assessed Value</th>\n",
       "      <th>Sale Amount</th>\n",
       "      <th>Sales Ratio</th>\n",
       "      <th>Property Type</th>\n",
       "      <th>Residential Type</th>\n",
       "      <th>Non Use Code</th>\n",
       "      <th>Assessor Remarks</th>\n",
       "      <th>OPM remarks</th>\n",
       "      <th>Location</th>\n",
       "    </tr>\n",
       "  </thead>\n",
       "  <tbody>\n",
       "    <tr>\n",
       "      <th>0</th>\n",
       "      <td>220008</td>\n",
       "      <td>2022</td>\n",
       "      <td>01/30/2023</td>\n",
       "      <td>Andover</td>\n",
       "      <td>618 ROUTE 6</td>\n",
       "      <td>139020.0</td>\n",
       "      <td>232000.0</td>\n",
       "      <td>0.5992</td>\n",
       "      <td>Residential</td>\n",
       "      <td>Single Family</td>\n",
       "      <td>NaN</td>\n",
       "      <td>NaN</td>\n",
       "      <td>NaN</td>\n",
       "      <td>POINT (-72.343628962 41.728431984)</td>\n",
       "    </tr>\n",
       "  </tbody>\n",
       "</table>\n",
       "</div>"
      ],
      "text/plain": [
       "   Serial Number  List Year Date Recorded     Town      Address  \\\n",
       "0         220008       2022    01/30/2023  Andover  618 ROUTE 6   \n",
       "\n",
       "   Assessed Value  Sale Amount  Sales Ratio Property Type Residential Type  \\\n",
       "0        139020.0     232000.0       0.5992   Residential    Single Family   \n",
       "\n",
       "  Non Use Code Assessor Remarks OPM remarks  \\\n",
       "0          NaN              NaN         NaN   \n",
       "\n",
       "                             Location  \n",
       "0  POINT (-72.343628962 41.728431984)  "
      ]
     },
     "execution_count": 3,
     "metadata": {},
     "output_type": "execute_result"
    }
   ],
   "source": [
    "df = pd.read_csv(\"D:/Data science/Dataset/Real_Estate_Sales_2001-2022_GL.csv\")\n",
    "df.head(1)"
   ]
  },
  {
   "cell_type": "code",
   "execution_count": 5,
   "id": "e42cf53e-ca35-4f32-94e2-fc82d574c2cf",
   "metadata": {},
   "outputs": [
    {
     "name": "stdout",
     "output_type": "stream",
     "text": [
      "Unique values in Serial Number column: [ 220008 2020348   20002 ... 1900749 1900695 1910419]\n",
      "Unique values in List Year column: [2022 2020 2021 2001 2002 2003 2004 2005 2006 2007 2008 2009 2010 2011\n",
      " 2012 2013 2014 2015 2016 2017 2018 2019]\n",
      "Unique values in Date Recorded column: ['01/30/2023' '09/13/2021' '10/02/2020' ... '04/12/2020' '03/21/2020'\n",
      " '03/07/2020']\n",
      "Unique values in Town column: ['Andover' 'Ansonia' 'Ashford' 'Avon' 'Beacon Falls' 'Berlin' 'Branford'\n",
      " 'Bethany' 'Bethlehem' 'Bloomfield' 'Bethel' 'Bridgeport' 'Bristol'\n",
      " 'Cheshire' 'Brookfield' 'Canaan' 'Canton' 'Cornwall' 'Coventry' 'Chester'\n",
      " 'Colchester' 'Columbia' 'Canterbury' 'Cromwell' 'Danbury' 'East Lyme'\n",
      " 'Derby' 'Eastford' 'East Haddam' 'Greenwich' 'East Haven' 'Farmington'\n",
      " 'Chaplin' 'Clinton' 'East Hampton' 'Easton' 'Enfield' 'Ellington'\n",
      " 'Hamden' 'Fairfield' 'Essex' 'Hartford' 'Durham' 'Franklin' 'Glastonbury'\n",
      " 'Killingly' 'Granby' 'Ledyard' 'Guilford' 'Colebrook' 'Meriden'\n",
      " 'East Windsor' 'Griswold' 'Bolton' 'Groton' 'Middlebury' 'Madison'\n",
      " 'Mansfield' 'Harwinton' 'Milford' 'Killingworth' 'Lebanon' 'Lisbon'\n",
      " 'Litchfield' 'Lyme' 'Manchester' 'New London' 'New Britain' 'Putnam'\n",
      " 'Norwalk' 'New Milford' 'Norfolk' 'Stafford' 'New Canaan' 'Sherman'\n",
      " 'North Haven' 'Stratford' 'Roxbury' 'Oxford' 'New Haven' 'Old Lyme'\n",
      " 'Norwich' 'Sharon' 'Monroe' 'Tolland' 'Torrington' 'Newtown' 'Naugatuck'\n",
      " 'Ridgefield' 'Orange' 'New Fairfield' 'New Hartford' 'Somers'\n",
      " 'Plainfield' 'Suffield' 'Plainville' 'Preston' 'West Haven' 'Morris'\n",
      " 'Wallingford' 'Thompson' 'Stonington' 'Waterbury' 'Stamford' 'Southbury'\n",
      " 'Newington' 'Vernon' 'Watertown' 'West Hartford' 'Plymouth' 'Portland'\n",
      " 'Redding' 'Warren' 'Rocky Hill' 'Salem' 'Winchester' 'Shelton' 'Simsbury'\n",
      " 'Windsor' 'Woodbury' 'Montville' 'North Branford' 'East Hartford'\n",
      " 'Hampton' 'Hebron' 'Darien' 'Burlington' 'Middlefield' 'Brooklyn'\n",
      " 'Haddam' 'Barkhamsted' 'Kent' 'East Granby' 'South Windsor' 'Deep River'\n",
      " 'Marlborough' 'Hartland' 'Washington' 'Sterling' 'Thomaston' 'Waterford'\n",
      " 'Trumbull' 'Old Saybrook' 'Westport' 'Westbrook' 'Middletown' 'Goshen'\n",
      " 'Bridgewater' 'Wethersfield' 'Bozrah' 'Willington' 'Wilton'\n",
      " 'Windsor Locks' 'Wolcott' 'Woodstock' 'Prospect' 'Southington' 'Windham'\n",
      " 'Weston' 'Voluntown' 'North Canaan' 'Scotland' 'Sprague' 'Pomfret'\n",
      " 'Seymour' 'Woodbridge' 'Union' 'North Stonington' 'Salisbury'\n",
      " '***Unknown***']\n",
      "Unique values in Address column: ['618 ROUTE 6' '230 WAKELEE AVE' '390 TURNPIKE RD' ... '191 HUNTER DRIVE'\n",
      " '355 PIERPONT RD' '126 PERKINS AVE']\n",
      "Unique values in Assessed Value column: [ 139020.  150500.  253000. ...   87955.  516990. 4035970.]\n",
      "Unique values in Sale Amount column: [ 232000.  325000.  430000. ...  169504.  356021. 1134708.]\n",
      "Unique values in Sales Ratio column: [0.5992     0.463      0.5883     ... 0.39486364 1.301625   1.13766478]\n",
      "Unique values in Property Type column: ['Residential' 'Commercial' 'Vacant Land' nan 'Apartments' 'Industrial'\n",
      " 'Public Utility' 'Condo' 'Two Family' 'Three Family' 'Single Family'\n",
      " 'Four Family']\n",
      "Unique values in Residential Type column: ['Single Family' nan 'Condo' 'Two Family' 'Four Family' 'Three Family']\n",
      "Unique values in Non Use Code column: [nan '08 - Part Interest' '14 - Foreclosure' '25 - Other' '01 - Family'\n",
      " '12 - Non Buildable Lot' '7' '8' '28' '10 - A Will' '24' '1'\n",
      " '07 - Change in Property' '25' '3' '18' '6' '17'\n",
      " '26 - Rehabilitation Deferred' '09 - Tax' '03 - Inter Corporation'\n",
      " '16 - Charitable Group' '28 - Use Assessment' '06 - Portion of Property'\n",
      " '02 - Love and Affection' '17 - Two Towns' '24 - Plottage'\n",
      " '05 - Deed Date' '18 - In Lieu Of Foreclosure' '12'\n",
      " '04 - Correcting Deed' '19 - Easement' '15 - Government Agency'\n",
      " '11 - Court Order' '27 - CRUMBLING FOUNDATION ASSESSMENT REDUCTION'\n",
      " '21 - Personal Property Exchange' '2' '22 - Money and Personal Property'\n",
      " '13 - Bankrupcy' '15' '30 - Auction' '23 - Zoning' 'Single Family' '14'\n",
      " '20 - Cemetery' '29' '30' '19' '10' '11' '21' '4' '16'\n",
      " '29 - No Consideration' '13' '9' '22' '23' '5' '26' 6.0 28.0 1.0 7.0 15.0\n",
      " 16.0 25.0 8.0 14.0 3.0 9.0 2.0 24.0 13.0 18.0 4.0 19.0 11.0 17.0 10.0\n",
      " 22.0 12.0 29.0 5.0 21.0 23.0 33.0 27.0 26.0 30.0 20.0 73.0 68.0 31.0 48.0\n",
      " 38.0 37.0 55.0 32.0 88.0 '27' '31' '34' '74' '32' '75']\n",
      "Unique values in Assessor Remarks column: [nan 'WATERFRONT/COTTAGE ONLY/LAND IS ASSOCIATION OWNED'\n",
      " 'FORECLOSURE SALE OUT OF BANK' ... 'FAMILY & FARM LAND'\n",
      " 'FORECLOSURE BY SALE:  1-7-9-0' 'MOTIVATED SELLER -DIVORCE']\n",
      "Unique values in OPM remarks column: [nan 'GAS STATION' 'GOOD SALE PER MLS' ... 'INCLUDES #19158'\n",
      " 'TOTAL RENOVATION PER MLS - SEE PREVIOUS SALE #1900075'\n",
      " 'PER MLS CLOSING PRICE = $1,145,000']\n",
      "Unique values in Location column: ['POINT (-72.343628962 41.728431984)' nan\n",
      " 'POINT (-72.846365959 41.781677018)' ... 'POINT (-72.80758 41.68147)'\n",
      " 'POINT (-72.96622 41.32883)' 'POINT (-72.07006 41.53315)']\n"
     ]
    }
   ],
   "source": [
    "for i in df.columns.tolist():\n",
    "    print(f'Unique values in {i} column:', df[i].unique())"
   ]
  },
  {
   "cell_type": "code",
   "execution_count": 7,
   "id": "6a602f0e-10fc-42f7-ae0e-f3b2222661d2",
   "metadata": {},
   "outputs": [
    {
     "data": {
      "text/plain": [
       "Property Type\n",
       "Single Family     401612\n",
       "Residential       151064\n",
       "Condo             105420\n",
       "Two Family         26408\n",
       "Three Family       12586\n",
       "Vacant Land         7824\n",
       "Commercial          5987\n",
       "Four Family         2150\n",
       "Apartments          1327\n",
       "Industrial           795\n",
       "Public Utility        10\n",
       "Name: count, dtype: int64"
      ]
     },
     "execution_count": 7,
     "metadata": {},
     "output_type": "execute_result"
    }
   ],
   "source": [
    "df['Property Type'].value_counts()"
   ]
  },
  {
   "cell_type": "code",
   "execution_count": 9,
   "id": "d1219030-f7c2-4a3b-94e4-95af22e11d1d",
   "metadata": {},
   "outputs": [
    {
     "data": {
      "text/plain": [
       "Index(['Serial Number', 'List Year', 'Date Recorded', 'Town', 'Address',\n",
       "       'Assessed Value', 'Sale Amount', 'Sales Ratio', 'Property Type',\n",
       "       'Residential Type', 'Non Use Code', 'Assessor Remarks', 'OPM remarks',\n",
       "       'Location'],\n",
       "      dtype='object')"
      ]
     },
     "execution_count": 9,
     "metadata": {},
     "output_type": "execute_result"
    }
   ],
   "source": [
    "df.columns"
   ]
  },
  {
   "cell_type": "code",
   "execution_count": 11,
   "id": "1bdd4954-53f7-43e8-a54c-274fc28d4d25",
   "metadata": {},
   "outputs": [],
   "source": [
    "df.rename(columns={\n",
    "    'Serial Number':'Serial_Number',\n",
    "    'List Year':'List_Year', \n",
    "    'Date Recorded':'Date_Recorded',\n",
    "    'Assessed Value':'Assessed_Value', \n",
    "    'Sale Amount':'Sale_Amount', \n",
    "    'Sales Ratio':\"Sale_Ration\", \n",
    "    'Property Type':\"Property_Type\",\n",
    "       'Residential Type':\"Residential_Type\", \n",
    "    'Non Use Code':\"Non_Use_Code\", 'Assessor Remarks':\"Assessor_Remarks\", 'OPM remarks':\"OPM_Remarks\"\n",
    "}, inplace=True)"
   ]
  },
  {
   "cell_type": "code",
   "execution_count": 13,
   "id": "3857f964-4a76-49e3-b6de-d8491538e4fb",
   "metadata": {},
   "outputs": [
    {
     "data": {
      "text/html": [
       "<div>\n",
       "<style scoped>\n",
       "    .dataframe tbody tr th:only-of-type {\n",
       "        vertical-align: middle;\n",
       "    }\n",
       "\n",
       "    .dataframe tbody tr th {\n",
       "        vertical-align: top;\n",
       "    }\n",
       "\n",
       "    .dataframe thead th {\n",
       "        text-align: right;\n",
       "    }\n",
       "</style>\n",
       "<table border=\"1\" class=\"dataframe\">\n",
       "  <thead>\n",
       "    <tr style=\"text-align: right;\">\n",
       "      <th></th>\n",
       "      <th>Serial_Number</th>\n",
       "      <th>List_Year</th>\n",
       "      <th>Date_Recorded</th>\n",
       "      <th>Town</th>\n",
       "      <th>Address</th>\n",
       "      <th>Assessed_Value</th>\n",
       "      <th>Sale_Amount</th>\n",
       "      <th>Sale_Ration</th>\n",
       "      <th>Property_Type</th>\n",
       "      <th>Residential_Type</th>\n",
       "      <th>Non_Use_Code</th>\n",
       "      <th>Assessor_Remarks</th>\n",
       "      <th>OPM_Remarks</th>\n",
       "      <th>Location</th>\n",
       "    </tr>\n",
       "  </thead>\n",
       "  <tbody>\n",
       "    <tr>\n",
       "      <th>0</th>\n",
       "      <td>220008</td>\n",
       "      <td>2022</td>\n",
       "      <td>01/30/2023</td>\n",
       "      <td>Andover</td>\n",
       "      <td>618 ROUTE 6</td>\n",
       "      <td>139020.0</td>\n",
       "      <td>232000.0</td>\n",
       "      <td>0.5992</td>\n",
       "      <td>Residential</td>\n",
       "      <td>Single Family</td>\n",
       "      <td>NaN</td>\n",
       "      <td>NaN</td>\n",
       "      <td>NaN</td>\n",
       "      <td>POINT (-72.343628962 41.728431984)</td>\n",
       "    </tr>\n",
       "  </tbody>\n",
       "</table>\n",
       "</div>"
      ],
      "text/plain": [
       "   Serial_Number  List_Year Date_Recorded     Town      Address  \\\n",
       "0         220008       2022    01/30/2023  Andover  618 ROUTE 6   \n",
       "\n",
       "   Assessed_Value  Sale_Amount  Sale_Ration Property_Type Residential_Type  \\\n",
       "0        139020.0     232000.0       0.5992   Residential    Single Family   \n",
       "\n",
       "  Non_Use_Code Assessor_Remarks OPM_Remarks  \\\n",
       "0          NaN              NaN         NaN   \n",
       "\n",
       "                             Location  \n",
       "0  POINT (-72.343628962 41.728431984)  "
      ]
     },
     "execution_count": 13,
     "metadata": {},
     "output_type": "execute_result"
    }
   ],
   "source": [
    "df.head(1)"
   ]
  },
  {
   "cell_type": "code",
   "execution_count": 15,
   "id": "8932c629-ada9-4f6f-b13f-4b1beff4b919",
   "metadata": {},
   "outputs": [
    {
     "name": "stdout",
     "output_type": "stream",
     "text": [
      "<class 'pandas.core.frame.DataFrame'>\n",
      "RangeIndex: 1097629 entries, 0 to 1097628\n",
      "Data columns (total 14 columns):\n",
      " #   Column            Non-Null Count    Dtype  \n",
      "---  ------            --------------    -----  \n",
      " 0   Serial_Number     1097629 non-null  int64  \n",
      " 1   List_Year         1097629 non-null  int64  \n",
      " 2   Date_Recorded     1097627 non-null  object \n",
      " 3   Town              1097629 non-null  object \n",
      " 4   Address           1097578 non-null  object \n",
      " 5   Assessed_Value    1097629 non-null  float64\n",
      " 6   Sale_Amount       1097629 non-null  float64\n",
      " 7   Sale_Ration       1097629 non-null  float64\n",
      " 8   Property_Type     715183 non-null   object \n",
      " 9   Residential_Type  699240 non-null   object \n",
      " 10  Non_Use_Code      313451 non-null   object \n",
      " 11  Assessor_Remarks  171228 non-null   object \n",
      " 12  OPM_Remarks       13031 non-null    object \n",
      " 13  Location          298111 non-null   object \n",
      "dtypes: float64(3), int64(2), object(9)\n",
      "memory usage: 117.2+ MB\n"
     ]
    }
   ],
   "source": [
    "df.info()"
   ]
  },
  {
   "cell_type": "code",
   "execution_count": 17,
   "id": "fd679b57-5f3f-46c5-8dc0-a1d3fe39ef0d",
   "metadata": {},
   "outputs": [
    {
     "data": {
      "text/plain": [
       "array(['Residential', 'Commercial', 'Vacant Land', nan, 'Apartments',\n",
       "       'Industrial', 'Public Utility', 'Condo', 'Two Family',\n",
       "       'Three Family', 'Single Family', 'Four Family'], dtype=object)"
      ]
     },
     "execution_count": 17,
     "metadata": {},
     "output_type": "execute_result"
    }
   ],
   "source": [
    "df['Property_Type'].unique()"
   ]
  },
  {
   "cell_type": "code",
   "execution_count": 19,
   "id": "635acd88-3a11-410c-af14-7e9ec0b50c5d",
   "metadata": {},
   "outputs": [
    {
     "data": {
      "text/plain": [
       "array(['Single Family', nan, 'Condo', 'Two Family', 'Four Family',\n",
       "       'Three Family'], dtype=object)"
      ]
     },
     "execution_count": 19,
     "metadata": {},
     "output_type": "execute_result"
    }
   ],
   "source": [
    "df['Residential_Type'].unique()"
   ]
  },
  {
   "cell_type": "code",
   "execution_count": 23,
   "id": "d2281db6-4b58-43c9-80eb-b669a140c707",
   "metadata": {},
   "outputs": [
    {
     "data": {
      "text/plain": [
       "array([nan, '08 - Part Interest', '14 - Foreclosure', '25 - Other',\n",
       "       '01 - Family', '12 - Non Buildable Lot', '7', '8', '28',\n",
       "       '10 - A Will', '24', '1', '07 - Change in Property', '25', '3',\n",
       "       '18', '6', '17', '26 - Rehabilitation Deferred', '09 - Tax',\n",
       "       '03 - Inter Corporation', '16 - Charitable Group',\n",
       "       '28 - Use Assessment', '06 - Portion of Property',\n",
       "       '02 - Love and Affection', '17 - Two Towns', '24 - Plottage',\n",
       "       '05 - Deed Date', '18 - In Lieu Of Foreclosure', '12',\n",
       "       '04 - Correcting Deed', '19 - Easement', '15 - Government Agency',\n",
       "       '11 - Court Order',\n",
       "       '27 - CRUMBLING FOUNDATION ASSESSMENT REDUCTION',\n",
       "       '21 - Personal Property Exchange', '2',\n",
       "       '22 - Money and Personal Property', '13 - Bankrupcy', '15',\n",
       "       '30 - Auction', '23 - Zoning', 'Single Family', '14',\n",
       "       '20 - Cemetery', '29', '30', '19', '10', '11', '21', '4', '16',\n",
       "       '29 - No Consideration', '13', '9', '22', '23', '5', '26', 6.0,\n",
       "       28.0, 1.0, 7.0, 15.0, 16.0, 25.0, 8.0, 14.0, 3.0, 9.0, 2.0, 24.0,\n",
       "       13.0, 18.0, 4.0, 19.0, 11.0, 17.0, 10.0, 22.0, 12.0, 29.0, 5.0,\n",
       "       21.0, 23.0, 33.0, 27.0, 26.0, 30.0, 20.0, 73.0, 68.0, 31.0, 48.0,\n",
       "       38.0, 37.0, 55.0, 32.0, 88.0, '27', '31', '34', '74', '32', '75'],\n",
       "      dtype=object)"
      ]
     },
     "execution_count": 23,
     "metadata": {},
     "output_type": "execute_result"
    }
   ],
   "source": [
    "df['Non_Use_Code'].unique()"
   ]
  },
  {
   "cell_type": "code",
   "execution_count": 29,
   "id": "b0af5444-c859-4df5-b57d-01e17ca502a1",
   "metadata": {},
   "outputs": [
    {
     "data": {
      "text/plain": [
       "Assessor_Remarks\n",
       "ESTATE SALE                                       5663\n",
       "BELOW MARKET                                      2574\n",
       "SHORT SALE                                        2553\n",
       "NEW CONSTRUCTION                                  2430\n",
       "SALES RATIO                                       2222\n",
       "                                                  ... \n",
       "INCLDS VAC LOT ON PRESCOTT ST ASSESSED AT 3580       1\n",
       "RESIDENTIAL/ COMMERCIAL                              1\n",
       "E20069                                               1\n",
       "per vision parcel under PA 490                       1\n",
       "MOTIVATED SELLER -DIVORCE                            1\n",
       "Name: count, Length: 75286, dtype: int64"
      ]
     },
     "execution_count": 29,
     "metadata": {},
     "output_type": "execute_result"
    }
   ],
   "source": [
    "df['Assessor_Remarks'].value_counts()"
   ]
  },
  {
   "cell_type": "code",
   "execution_count": 33,
   "id": "b56441cf-3129-49fd-ab38-b04fa3b95399",
   "metadata": {},
   "outputs": [
    {
     "data": {
      "text/plain": [
       "OPM_Remarks\n",
       "GOOD SALE PER MLS                                                                           1200\n",
       "NO MLS                                                                                       649\n",
       "TOTAL RENOVATION PER MLS                                                                     563\n",
       "NEW CONSTRUCTION                                                                             453\n",
       "SHORT SALE PER MLS                                                                           355\n",
       "                                                                                            ... \n",
       "PER MLS INTERIOR IS STUDS ONLY. REAR WING OF HOUSE HAS BEEN DEMOLISHED.                        1\n",
       "BELOW MARKET - PREVIOUS SALE 10/2021 $32,000 - ALSO SOLD 5/23/23 $51,900 AS IS (#220337)       1\n",
       "ASSESSMENT INCREASED TO $25,280 FOR 2023 GRAND LIST                                            1\n",
       "NEW HOME ALREADY BUILT                                                                         1\n",
       "PER MLS CLOSING PRICE = $1,145,000                                                             1\n",
       "Name: count, Length: 6490, dtype: int64"
      ]
     },
     "execution_count": 33,
     "metadata": {},
     "output_type": "execute_result"
    }
   ],
   "source": [
    "df['OPM_Remarks'].value_counts()"
   ]
  },
  {
   "cell_type": "code",
   "execution_count": 39,
   "id": "99e98ede-5dcb-4813-b9c2-379084d94400",
   "metadata": {},
   "outputs": [
    {
     "data": {
      "text/plain": [
       "Serial_Number\n",
       "10010      172\n",
       "10002      172\n",
       "10018      172\n",
       "10030      171\n",
       "10003      171\n",
       "          ... \n",
       "71396        1\n",
       "71310        1\n",
       "69652        1\n",
       "71672        1\n",
       "1910419      1\n",
       "Name: count, Length: 96220, dtype: int64"
      ]
     },
     "execution_count": 39,
     "metadata": {},
     "output_type": "execute_result"
    }
   ],
   "source": [
    "df['Serial_Number'].value_counts()"
   ]
  },
  {
   "cell_type": "code",
   "execution_count": 41,
   "id": "18abb878-5945-4734-8e79-b8a928193222",
   "metadata": {},
   "outputs": [
    {
     "data": {
      "text/plain": [
       "Serial_Number             0\n",
       "List_Year                 0\n",
       "Date_Recorded             2\n",
       "Town                      0\n",
       "Address                  51\n",
       "Assessed_Value            0\n",
       "Sale_Amount               0\n",
       "Sale_Ration               0\n",
       "Property_Type        382446\n",
       "Residential_Type     398389\n",
       "Non_Use_Code         784178\n",
       "Assessor_Remarks     926401\n",
       "OPM_Remarks         1084598\n",
       "Location             799518\n",
       "dtype: int64"
      ]
     },
     "execution_count": 41,
     "metadata": {},
     "output_type": "execute_result"
    }
   ],
   "source": [
    "df.isnull().sum()"
   ]
  },
  {
   "cell_type": "code",
   "execution_count": 43,
   "id": "c87a77e4-e58f-400e-9a13-400edae22fdf",
   "metadata": {},
   "outputs": [],
   "source": [
    "df['Date_Recorded'] = pd.to_datetime(df['Date_Recorded'], format='%m/%d/%Y')\n",
    "\n",
    "# Mengubah format tanggal ke 'YYYY-MM-DD' (opsional, jika diperlukan)\n",
    "df['Date_Recorded'] = df['Date_Recorded'].dt.strftime('%Y-%m-%d')"
   ]
  },
  {
   "cell_type": "code",
   "execution_count": 47,
   "id": "722c7435-8f08-4ce8-a016-76b23ee0595e",
   "metadata": {},
   "outputs": [
    {
     "name": "stdout",
     "output_type": "stream",
     "text": [
      "<class 'pandas.core.frame.DataFrame'>\n",
      "RangeIndex: 1097629 entries, 0 to 1097628\n",
      "Data columns (total 14 columns):\n",
      " #   Column            Non-Null Count    Dtype  \n",
      "---  ------            --------------    -----  \n",
      " 0   Serial_Number     1097629 non-null  int64  \n",
      " 1   List_Year         1097629 non-null  int64  \n",
      " 2   Date_Recorded     1097627 non-null  object \n",
      " 3   Town              1097629 non-null  object \n",
      " 4   Address           1097578 non-null  object \n",
      " 5   Assessed_Value    1097629 non-null  float64\n",
      " 6   Sale_Amount       1097629 non-null  float64\n",
      " 7   Sale_Ration       1097629 non-null  float64\n",
      " 8   Property_Type     715183 non-null   object \n",
      " 9   Residential_Type  699240 non-null   object \n",
      " 10  Non_Use_Code      313451 non-null   object \n",
      " 11  Assessor_Remarks  171228 non-null   object \n",
      " 12  OPM_Remarks       13031 non-null    object \n",
      " 13  Location          298111 non-null   object \n",
      "dtypes: float64(3), int64(2), object(9)\n",
      "memory usage: 117.2+ MB\n"
     ]
    }
   ],
   "source": [
    "df.info()"
   ]
  },
  {
   "cell_type": "code",
   "execution_count": 51,
   "id": "da6a5ff9-365b-471c-ac8c-773e9a97189d",
   "metadata": {},
   "outputs": [],
   "source": [
    "df.rename(columns={'Sale_Rations':'Sale_Ratio'},inplace=True)"
   ]
  },
  {
   "cell_type": "code",
   "execution_count": 53,
   "id": "fc5ccf3e-0c08-46aa-b75e-84bdbe85eddc",
   "metadata": {},
   "outputs": [],
   "source": [
    "df.to_csv(\"D:/Data science/Dataset/Real_Estate_Sales_2001-2022_GL.csv\", index=False)"
   ]
  },
  {
   "cell_type": "code",
   "execution_count": 55,
   "id": "2dce33ea-be34-4548-889d-17cd87077e71",
   "metadata": {},
   "outputs": [
    {
     "data": {
      "text/plain": [
       "0          POINT (-72.343628962 41.728431984)\n",
       "1                                         NaN\n",
       "2                                         NaN\n",
       "3          POINT (-72.846365959 41.781677018)\n",
       "4                                         NaN\n",
       "                          ...                \n",
       "1097624                                   NaN\n",
       "1097625                                   NaN\n",
       "1097626                                   NaN\n",
       "1097627                                   NaN\n",
       "1097628                                   NaN\n",
       "Name: Location, Length: 1097629, dtype: object"
      ]
     },
     "execution_count": 55,
     "metadata": {},
     "output_type": "execute_result"
    }
   ],
   "source": [
    "df['Location']"
   ]
  },
  {
   "cell_type": "code",
   "execution_count": 57,
   "id": "35d3b86e-adaa-4e67-a67b-4c64efbda380",
   "metadata": {},
   "outputs": [
    {
     "data": {
      "text/html": [
       "<div>\n",
       "<style scoped>\n",
       "    .dataframe tbody tr th:only-of-type {\n",
       "        vertical-align: middle;\n",
       "    }\n",
       "\n",
       "    .dataframe tbody tr th {\n",
       "        vertical-align: top;\n",
       "    }\n",
       "\n",
       "    .dataframe thead th {\n",
       "        text-align: right;\n",
       "    }\n",
       "</style>\n",
       "<table border=\"1\" class=\"dataframe\">\n",
       "  <thead>\n",
       "    <tr style=\"text-align: right;\">\n",
       "      <th></th>\n",
       "      <th>Serial_Number</th>\n",
       "      <th>List_Year</th>\n",
       "      <th>Date_Recorded</th>\n",
       "      <th>Town</th>\n",
       "      <th>Address</th>\n",
       "      <th>Assessed_Value</th>\n",
       "      <th>Sale_Amount</th>\n",
       "      <th>Sale_Ration</th>\n",
       "      <th>Property_Type</th>\n",
       "      <th>Residential_Type</th>\n",
       "      <th>Non_Use_Code</th>\n",
       "      <th>Assessor_Remarks</th>\n",
       "      <th>OPM_Remarks</th>\n",
       "      <th>Location</th>\n",
       "    </tr>\n",
       "  </thead>\n",
       "  <tbody>\n",
       "    <tr>\n",
       "      <th>0</th>\n",
       "      <td>220008</td>\n",
       "      <td>2022</td>\n",
       "      <td>2023-01-30</td>\n",
       "      <td>Andover</td>\n",
       "      <td>618 ROUTE 6</td>\n",
       "      <td>139020.0</td>\n",
       "      <td>232000.0</td>\n",
       "      <td>0.5992</td>\n",
       "      <td>Residential</td>\n",
       "      <td>Single Family</td>\n",
       "      <td>NaN</td>\n",
       "      <td>NaN</td>\n",
       "      <td>NaN</td>\n",
       "      <td>POINT (-72.343628962 41.728431984)</td>\n",
       "    </tr>\n",
       "  </tbody>\n",
       "</table>\n",
       "</div>"
      ],
      "text/plain": [
       "   Serial_Number  List_Year Date_Recorded     Town      Address  \\\n",
       "0         220008       2022    2023-01-30  Andover  618 ROUTE 6   \n",
       "\n",
       "   Assessed_Value  Sale_Amount  Sale_Ration Property_Type Residential_Type  \\\n",
       "0        139020.0     232000.0       0.5992   Residential    Single Family   \n",
       "\n",
       "  Non_Use_Code Assessor_Remarks OPM_Remarks  \\\n",
       "0          NaN              NaN         NaN   \n",
       "\n",
       "                             Location  \n",
       "0  POINT (-72.343628962 41.728431984)  "
      ]
     },
     "execution_count": 57,
     "metadata": {},
     "output_type": "execute_result"
    }
   ],
   "source": [
    "df.head(1)"
   ]
  },
  {
   "cell_type": "code",
   "execution_count": null,
   "id": "acc17c06-8e72-4b05-b31a-f712056ed02a",
   "metadata": {},
   "outputs": [],
   "source": []
  }
 ],
 "metadata": {
  "kernelspec": {
   "display_name": "Python 3 (ipykernel)",
   "language": "python",
   "name": "python3"
  },
  "language_info": {
   "codemirror_mode": {
    "name": "ipython",
    "version": 3
   },
   "file_extension": ".py",
   "mimetype": "text/x-python",
   "name": "python",
   "nbconvert_exporter": "python",
   "pygments_lexer": "ipython3",
   "version": "3.12.4"
  }
 },
 "nbformat": 4,
 "nbformat_minor": 5
}
